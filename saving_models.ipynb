{
 "cells": [
  {
   "cell_type": "code",
   "execution_count": 1,
   "metadata": {},
   "outputs": [],
   "source": [
    "import numpy as np\n",
    "import time\n",
    "import datetime\n",
    "import joblib  #Using joblib to save model\n",
    "import pandas as pd\n",
    "from statsmodels.tsa.ar_model import AR,ARResults\n",
    "from math import sqrt\n",
    "import warnings\n",
    "warnings.filterwarnings('ignore')\n",
    "\n",
    "df = pd.read_csv('final_doc.csv',index_col='Date',parse_dates=True)\n",
    "for i in range(34):\n",
    "    df1 = pd.DataFrame(df.iloc[:,i])\n",
    "    df1.dropna(inplace=True)\n",
    "    df1 = abs(df1)\n",
    "    X = df1[:]\n",
    "    #Fitting model with whole data to use for final prediction\n",
    "    model = AR(X)\n",
    "    model_fit = model.fit(365)\n",
    "    filename = 'Models\\model_'+str(i+1)\n",
    "    joblib.dump(model_fit,filename) "
   ]
  },
  {
   "cell_type": "code",
   "execution_count": null,
   "metadata": {},
   "outputs": [],
   "source": []
  }
 ],
 "metadata": {
  "kernelspec": {
   "display_name": "Python 3",
   "language": "python",
   "name": "python3"
  },
  "language_info": {
   "codemirror_mode": {
    "name": "ipython",
    "version": 3
   },
   "file_extension": ".py",
   "mimetype": "text/x-python",
   "name": "python",
   "nbconvert_exporter": "python",
   "pygments_lexer": "ipython3",
   "version": "3.8.5"
  }
 },
 "nbformat": 4,
 "nbformat_minor": 4
}
